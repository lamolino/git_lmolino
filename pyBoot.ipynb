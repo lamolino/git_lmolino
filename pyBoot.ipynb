{
  "nbformat": 4,
  "nbformat_minor": 0,
  "metadata": {
    "colab": {
      "name": "pyBoot.ipynb",
      "provenance": [],
      "authorship_tag": "ABX9TyPzAMbTBcv2kBbhoYrH2as1",
      "include_colab_link": true
    },
    "kernelspec": {
      "name": "python3",
      "display_name": "Python 3"
    }
  },
  "cells": [
    {
      "cell_type": "markdown",
      "metadata": {
        "id": "view-in-github",
        "colab_type": "text"
      },
      "source": [
        "<a href=\"https://colab.research.google.com/github/lamolino/git_lmolino/blob/main/pyBoot.ipynb\" target=\"_parent\"><img src=\"https://colab.research.google.com/assets/colab-badge.svg\" alt=\"Open In Colab\"/></a>"
      ]
    },
    {
      "cell_type": "code",
      "metadata": {
        "colab": {
          "base_uri": "https://localhost:8080/"
        },
        "id": "Hp3KQbUqdOhT",
        "outputId": "b0400a97-2dfb-44af-c5a3-c726d3aba325"
      },
      "source": [
        "print('hello')"
      ],
      "execution_count": 1,
      "outputs": [
        {
          "output_type": "stream",
          "text": [
            "hello\n"
          ],
          "name": "stdout"
        }
      ]
    },
    {
      "cell_type": "code",
      "metadata": {
        "id": "wnZj1j3QerWE"
      },
      "source": [
        "from __future__ import print_function, division "
      ],
      "execution_count": 2,
      "outputs": []
    }
  ]
}